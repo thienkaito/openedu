{
  "nbformat": 4,
  "nbformat_minor": 0,
  "metadata": {
    "colab": {
      "name": "week32.ipynb",
      "provenance": [],
      "collapsed_sections": []
    },
    "kernelspec": {
      "name": "python3",
      "display_name": "Python 3"
    }
  },
  "cells": [
    {
      "cell_type": "code",
      "metadata": {
        "colab": {
          "base_uri": "https://localhost:8080/"
        },
        "id": "pQWEyf5Cl0Ux",
        "outputId": "dbf9df54-ade4-4dcc-8d95-20e73d00c241"
      },
      "source": [
        "!pip install mplfinance"
      ],
      "execution_count": 1,
      "outputs": [
        {
          "output_type": "stream",
          "text": [
            "Collecting mplfinance\n",
            "\u001b[?25l  Downloading https://files.pythonhosted.org/packages/52/96/75608a3c82cb433dbd3e48f2da3e1ebe5be032f6cbfc92ab6b42a4de5639/mplfinance-0.12.7a5-py3-none-any.whl (55kB)\n",
            "\r\u001b[K     |█████▉                          | 10kB 23.6MB/s eta 0:00:01\r\u001b[K     |███████████▊                    | 20kB 17.7MB/s eta 0:00:01\r\u001b[K     |█████████████████▋              | 30kB 11.0MB/s eta 0:00:01\r\u001b[K     |███████████████████████▌        | 40kB 9.1MB/s eta 0:00:01\r\u001b[K     |█████████████████████████████▍  | 51kB 7.7MB/s eta 0:00:01\r\u001b[K     |████████████████████████████████| 61kB 5.5MB/s \n",
            "\u001b[?25hRequirement already satisfied: matplotlib in /usr/local/lib/python3.6/dist-packages (from mplfinance) (3.2.2)\n",
            "Requirement already satisfied: pandas in /usr/local/lib/python3.6/dist-packages (from mplfinance) (1.1.5)\n",
            "Requirement already satisfied: kiwisolver>=1.0.1 in /usr/local/lib/python3.6/dist-packages (from matplotlib->mplfinance) (1.3.1)\n",
            "Requirement already satisfied: cycler>=0.10 in /usr/local/lib/python3.6/dist-packages (from matplotlib->mplfinance) (0.10.0)\n",
            "Requirement already satisfied: python-dateutil>=2.1 in /usr/local/lib/python3.6/dist-packages (from matplotlib->mplfinance) (2.8.1)\n",
            "Requirement already satisfied: pyparsing!=2.0.4,!=2.1.2,!=2.1.6,>=2.0.1 in /usr/local/lib/python3.6/dist-packages (from matplotlib->mplfinance) (2.4.7)\n",
            "Requirement already satisfied: numpy>=1.11 in /usr/local/lib/python3.6/dist-packages (from matplotlib->mplfinance) (1.19.5)\n",
            "Requirement already satisfied: pytz>=2017.2 in /usr/local/lib/python3.6/dist-packages (from pandas->mplfinance) (2018.9)\n",
            "Requirement already satisfied: six in /usr/local/lib/python3.6/dist-packages (from cycler>=0.10->matplotlib->mplfinance) (1.15.0)\n",
            "Installing collected packages: mplfinance\n",
            "Successfully installed mplfinance-0.12.7a5\n"
          ],
          "name": "stdout"
        }
      ]
    },
    {
      "cell_type": "code",
      "metadata": {
        "id": "v58sIowgfk8h",
        "colab": {
          "resources": {
            "http://localhost:8080/nbextensions/google.colab/files.js": {
              "data": "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",
              "ok": true,
              "headers": [
                [
                  "content-type",
                  "application/javascript"
                ]
              ],
              "status": 200,
              "status_text": ""
            }
          },
          "base_uri": "https://localhost:8080/",
          "height": 72
        },
        "outputId": "e5528b9c-c37c-4649-8a33-252d8134e8b8"
      },
      "source": [
        "from google.colab import files\r\n",
        "import pandas as pd\r\n",
        "import matplotlib.pyplot as plt\r\n",
        "import mplfinance as mpf\r\n",
        "\r\n",
        "uploaded = files.upload()"
      ],
      "execution_count": 2,
      "outputs": [
        {
          "output_type": "display_data",
          "data": {
            "text/html": [
              "\n",
              "     <input type=\"file\" id=\"files-8840d3d5-23bd-4d28-b8cb-a4d42fb58a82\" name=\"files[]\" multiple disabled\n",
              "        style=\"border:none\" />\n",
              "     <output id=\"result-8840d3d5-23bd-4d28-b8cb-a4d42fb58a82\">\n",
              "      Upload widget is only available when the cell has been executed in the\n",
              "      current browser session. Please rerun this cell to enable.\n",
              "      </output>\n",
              "      <script src=\"/nbextensions/google.colab/files.js\"></script> "
            ],
            "text/plain": [
              "<IPython.core.display.HTML object>"
            ]
          },
          "metadata": {
            "tags": []
          }
        },
        {
          "output_type": "stream",
          "text": [
            "Saving SPFB.RTS-12.18_180913_180913.txt to SPFB.RTS-12.18_180913_180913.txt\n"
          ],
          "name": "stdout"
        }
      ]
    },
    {
      "cell_type": "code",
      "metadata": {
        "colab": {
          "base_uri": "https://localhost:8080/",
          "height": 568
        },
        "id": "LRLRE-SdgC3y",
        "outputId": "b3a60838-88a8-4ad0-c506-a759f36effe0"
      },
      "source": [
        "dt = pd.read_csv(list(uploaded)[0])\r\n",
        "\r\n",
        "for x in range(0, len(dt)):\r\n",
        "  dt['<TIME>'][x] = dt['<TIME>'][x]/10000 * 3600\r\n",
        "dt"
      ],
      "execution_count": 3,
      "outputs": [
        {
          "output_type": "stream",
          "text": [
            "/usr/local/lib/python3.6/dist-packages/ipykernel_launcher.py:4: SettingWithCopyWarning: \n",
            "A value is trying to be set on a copy of a slice from a DataFrame\n",
            "\n",
            "See the caveats in the documentation: https://pandas.pydata.org/pandas-docs/stable/user_guide/indexing.html#returning-a-view-versus-a-copy\n",
            "  after removing the cwd from sys.path.\n"
          ],
          "name": "stderr"
        },
        {
          "output_type": "execute_result",
          "data": {
            "text/html": [
              "<div>\n",
              "<style scoped>\n",
              "    .dataframe tbody tr th:only-of-type {\n",
              "        vertical-align: middle;\n",
              "    }\n",
              "\n",
              "    .dataframe tbody tr th {\n",
              "        vertical-align: top;\n",
              "    }\n",
              "\n",
              "    .dataframe thead th {\n",
              "        text-align: right;\n",
              "    }\n",
              "</style>\n",
              "<table border=\"1\" class=\"dataframe\">\n",
              "  <thead>\n",
              "    <tr style=\"text-align: right;\">\n",
              "      <th></th>\n",
              "      <th>&lt;DATE&gt;</th>\n",
              "      <th>&lt;TIME&gt;</th>\n",
              "      <th>&lt;OPEN&gt;</th>\n",
              "      <th>&lt;HIGH&gt;</th>\n",
              "      <th>&lt;LOW&gt;</th>\n",
              "      <th>&lt;CLOSE&gt;</th>\n",
              "      <th>&lt;VOL&gt;</th>\n",
              "    </tr>\n",
              "  </thead>\n",
              "  <tbody>\n",
              "    <tr>\n",
              "      <th>0</th>\n",
              "      <td>20180913</td>\n",
              "      <td>36000</td>\n",
              "      <td>105890.0</td>\n",
              "      <td>107050.0</td>\n",
              "      <td>105890.0</td>\n",
              "      <td>106970.0</td>\n",
              "      <td>1725</td>\n",
              "    </tr>\n",
              "    <tr>\n",
              "      <th>1</th>\n",
              "      <td>20180913</td>\n",
              "      <td>39600</td>\n",
              "      <td>106970.0</td>\n",
              "      <td>107150.0</td>\n",
              "      <td>106820.0</td>\n",
              "      <td>107030.0</td>\n",
              "      <td>1626</td>\n",
              "    </tr>\n",
              "    <tr>\n",
              "      <th>2</th>\n",
              "      <td>20180913</td>\n",
              "      <td>43200</td>\n",
              "      <td>107020.0</td>\n",
              "      <td>107410.0</td>\n",
              "      <td>106980.0</td>\n",
              "      <td>107240.0</td>\n",
              "      <td>1905</td>\n",
              "    </tr>\n",
              "    <tr>\n",
              "      <th>3</th>\n",
              "      <td>20180913</td>\n",
              "      <td>46800</td>\n",
              "      <td>107270.0</td>\n",
              "      <td>107510.0</td>\n",
              "      <td>107270.0</td>\n",
              "      <td>107430.0</td>\n",
              "      <td>721</td>\n",
              "    </tr>\n",
              "    <tr>\n",
              "      <th>4</th>\n",
              "      <td>20180913</td>\n",
              "      <td>50400</td>\n",
              "      <td>107550.0</td>\n",
              "      <td>108110.0</td>\n",
              "      <td>107550.0</td>\n",
              "      <td>107930.0</td>\n",
              "      <td>1632</td>\n",
              "    </tr>\n",
              "    <tr>\n",
              "      <th>5</th>\n",
              "      <td>20180913</td>\n",
              "      <td>54000</td>\n",
              "      <td>107950.0</td>\n",
              "      <td>108270.0</td>\n",
              "      <td>107730.0</td>\n",
              "      <td>108180.0</td>\n",
              "      <td>934</td>\n",
              "    </tr>\n",
              "    <tr>\n",
              "      <th>6</th>\n",
              "      <td>20180913</td>\n",
              "      <td>57600</td>\n",
              "      <td>108200.0</td>\n",
              "      <td>108740.0</td>\n",
              "      <td>108080.0</td>\n",
              "      <td>108450.0</td>\n",
              "      <td>1946</td>\n",
              "    </tr>\n",
              "    <tr>\n",
              "      <th>7</th>\n",
              "      <td>20180913</td>\n",
              "      <td>61200</td>\n",
              "      <td>108480.0</td>\n",
              "      <td>108540.0</td>\n",
              "      <td>106770.0</td>\n",
              "      <td>107300.0</td>\n",
              "      <td>3918</td>\n",
              "    </tr>\n",
              "    <tr>\n",
              "      <th>8</th>\n",
              "      <td>20180913</td>\n",
              "      <td>64800</td>\n",
              "      <td>107290.0</td>\n",
              "      <td>107860.0</td>\n",
              "      <td>106810.0</td>\n",
              "      <td>107020.0</td>\n",
              "      <td>1831</td>\n",
              "    </tr>\n",
              "    <tr>\n",
              "      <th>9</th>\n",
              "      <td>20180913</td>\n",
              "      <td>68400</td>\n",
              "      <td>107030.0</td>\n",
              "      <td>107520.0</td>\n",
              "      <td>107000.0</td>\n",
              "      <td>107270.0</td>\n",
              "      <td>709</td>\n",
              "    </tr>\n",
              "    <tr>\n",
              "      <th>10</th>\n",
              "      <td>20180913</td>\n",
              "      <td>72000</td>\n",
              "      <td>107320.0</td>\n",
              "      <td>107410.0</td>\n",
              "      <td>107180.0</td>\n",
              "      <td>107200.0</td>\n",
              "      <td>225</td>\n",
              "    </tr>\n",
              "    <tr>\n",
              "      <th>11</th>\n",
              "      <td>20180913</td>\n",
              "      <td>75600</td>\n",
              "      <td>107170.0</td>\n",
              "      <td>107660.0</td>\n",
              "      <td>107110.0</td>\n",
              "      <td>107510.0</td>\n",
              "      <td>350</td>\n",
              "    </tr>\n",
              "    <tr>\n",
              "      <th>12</th>\n",
              "      <td>20180913</td>\n",
              "      <td>79200</td>\n",
              "      <td>107510.0</td>\n",
              "      <td>107580.0</td>\n",
              "      <td>107170.0</td>\n",
              "      <td>107260.0</td>\n",
              "      <td>222</td>\n",
              "    </tr>\n",
              "    <tr>\n",
              "      <th>13</th>\n",
              "      <td>20180913</td>\n",
              "      <td>82800</td>\n",
              "      <td>107280.0</td>\n",
              "      <td>107280.0</td>\n",
              "      <td>107140.0</td>\n",
              "      <td>107280.0</td>\n",
              "      <td>155</td>\n",
              "    </tr>\n",
              "  </tbody>\n",
              "</table>\n",
              "</div>"
            ],
            "text/plain": [
              "      <DATE>  <TIME>    <OPEN>    <HIGH>     <LOW>   <CLOSE>  <VOL>\n",
              "0   20180913   36000  105890.0  107050.0  105890.0  106970.0   1725\n",
              "1   20180913   39600  106970.0  107150.0  106820.0  107030.0   1626\n",
              "2   20180913   43200  107020.0  107410.0  106980.0  107240.0   1905\n",
              "3   20180913   46800  107270.0  107510.0  107270.0  107430.0    721\n",
              "4   20180913   50400  107550.0  108110.0  107550.0  107930.0   1632\n",
              "5   20180913   54000  107950.0  108270.0  107730.0  108180.0    934\n",
              "6   20180913   57600  108200.0  108740.0  108080.0  108450.0   1946\n",
              "7   20180913   61200  108480.0  108540.0  106770.0  107300.0   3918\n",
              "8   20180913   64800  107290.0  107860.0  106810.0  107020.0   1831\n",
              "9   20180913   68400  107030.0  107520.0  107000.0  107270.0    709\n",
              "10  20180913   72000  107320.0  107410.0  107180.0  107200.0    225\n",
              "11  20180913   75600  107170.0  107660.0  107110.0  107510.0    350\n",
              "12  20180913   79200  107510.0  107580.0  107170.0  107260.0    222\n",
              "13  20180913   82800  107280.0  107280.0  107140.0  107280.0    155"
            ]
          },
          "metadata": {
            "tags": []
          },
          "execution_count": 3
        }
      ]
    },
    {
      "cell_type": "code",
      "metadata": {
        "colab": {
          "base_uri": "https://localhost:8080/",
          "height": 514
        },
        "id": "A3vlGsh7jUgG",
        "outputId": "5476072d-bd34-441d-a683-c093865848dd"
      },
      "source": [
        "dt['Time'] = dt['<TIME>']\r\n",
        "dt['Open'] = dt['<OPEN>']\r\n",
        "dt['High'] = dt['<HIGH>']\r\n",
        "dt['Close'] = dt['<CLOSE>']\r\n",
        "dt['Low'] = dt['<LOW>']\r\n",
        "\r\n",
        "ohlc = dt.loc[:, ['Time',\t'Open',\t'High', 'Low',\t'Close']]\r\n",
        "ohlc['Time'] = pd.to_datetime(ohlc['Time'], unit='s')\r\n",
        "ohlc = ohlc.set_index('Time')\r\n",
        "ohlc"
      ],
      "execution_count": 4,
      "outputs": [
        {
          "output_type": "execute_result",
          "data": {
            "text/html": [
              "<div>\n",
              "<style scoped>\n",
              "    .dataframe tbody tr th:only-of-type {\n",
              "        vertical-align: middle;\n",
              "    }\n",
              "\n",
              "    .dataframe tbody tr th {\n",
              "        vertical-align: top;\n",
              "    }\n",
              "\n",
              "    .dataframe thead th {\n",
              "        text-align: right;\n",
              "    }\n",
              "</style>\n",
              "<table border=\"1\" class=\"dataframe\">\n",
              "  <thead>\n",
              "    <tr style=\"text-align: right;\">\n",
              "      <th></th>\n",
              "      <th>Open</th>\n",
              "      <th>High</th>\n",
              "      <th>Low</th>\n",
              "      <th>Close</th>\n",
              "    </tr>\n",
              "    <tr>\n",
              "      <th>Time</th>\n",
              "      <th></th>\n",
              "      <th></th>\n",
              "      <th></th>\n",
              "      <th></th>\n",
              "    </tr>\n",
              "  </thead>\n",
              "  <tbody>\n",
              "    <tr>\n",
              "      <th>1970-01-01 10:00:00</th>\n",
              "      <td>105890.0</td>\n",
              "      <td>107050.0</td>\n",
              "      <td>105890.0</td>\n",
              "      <td>106970.0</td>\n",
              "    </tr>\n",
              "    <tr>\n",
              "      <th>1970-01-01 11:00:00</th>\n",
              "      <td>106970.0</td>\n",
              "      <td>107150.0</td>\n",
              "      <td>106820.0</td>\n",
              "      <td>107030.0</td>\n",
              "    </tr>\n",
              "    <tr>\n",
              "      <th>1970-01-01 12:00:00</th>\n",
              "      <td>107020.0</td>\n",
              "      <td>107410.0</td>\n",
              "      <td>106980.0</td>\n",
              "      <td>107240.0</td>\n",
              "    </tr>\n",
              "    <tr>\n",
              "      <th>1970-01-01 13:00:00</th>\n",
              "      <td>107270.0</td>\n",
              "      <td>107510.0</td>\n",
              "      <td>107270.0</td>\n",
              "      <td>107430.0</td>\n",
              "    </tr>\n",
              "    <tr>\n",
              "      <th>1970-01-01 14:00:00</th>\n",
              "      <td>107550.0</td>\n",
              "      <td>108110.0</td>\n",
              "      <td>107550.0</td>\n",
              "      <td>107930.0</td>\n",
              "    </tr>\n",
              "    <tr>\n",
              "      <th>1970-01-01 15:00:00</th>\n",
              "      <td>107950.0</td>\n",
              "      <td>108270.0</td>\n",
              "      <td>107730.0</td>\n",
              "      <td>108180.0</td>\n",
              "    </tr>\n",
              "    <tr>\n",
              "      <th>1970-01-01 16:00:00</th>\n",
              "      <td>108200.0</td>\n",
              "      <td>108740.0</td>\n",
              "      <td>108080.0</td>\n",
              "      <td>108450.0</td>\n",
              "    </tr>\n",
              "    <tr>\n",
              "      <th>1970-01-01 17:00:00</th>\n",
              "      <td>108480.0</td>\n",
              "      <td>108540.0</td>\n",
              "      <td>106770.0</td>\n",
              "      <td>107300.0</td>\n",
              "    </tr>\n",
              "    <tr>\n",
              "      <th>1970-01-01 18:00:00</th>\n",
              "      <td>107290.0</td>\n",
              "      <td>107860.0</td>\n",
              "      <td>106810.0</td>\n",
              "      <td>107020.0</td>\n",
              "    </tr>\n",
              "    <tr>\n",
              "      <th>1970-01-01 19:00:00</th>\n",
              "      <td>107030.0</td>\n",
              "      <td>107520.0</td>\n",
              "      <td>107000.0</td>\n",
              "      <td>107270.0</td>\n",
              "    </tr>\n",
              "    <tr>\n",
              "      <th>1970-01-01 20:00:00</th>\n",
              "      <td>107320.0</td>\n",
              "      <td>107410.0</td>\n",
              "      <td>107180.0</td>\n",
              "      <td>107200.0</td>\n",
              "    </tr>\n",
              "    <tr>\n",
              "      <th>1970-01-01 21:00:00</th>\n",
              "      <td>107170.0</td>\n",
              "      <td>107660.0</td>\n",
              "      <td>107110.0</td>\n",
              "      <td>107510.0</td>\n",
              "    </tr>\n",
              "    <tr>\n",
              "      <th>1970-01-01 22:00:00</th>\n",
              "      <td>107510.0</td>\n",
              "      <td>107580.0</td>\n",
              "      <td>107170.0</td>\n",
              "      <td>107260.0</td>\n",
              "    </tr>\n",
              "    <tr>\n",
              "      <th>1970-01-01 23:00:00</th>\n",
              "      <td>107280.0</td>\n",
              "      <td>107280.0</td>\n",
              "      <td>107140.0</td>\n",
              "      <td>107280.0</td>\n",
              "    </tr>\n",
              "  </tbody>\n",
              "</table>\n",
              "</div>"
            ],
            "text/plain": [
              "                         Open      High       Low     Close\n",
              "Time                                                       \n",
              "1970-01-01 10:00:00  105890.0  107050.0  105890.0  106970.0\n",
              "1970-01-01 11:00:00  106970.0  107150.0  106820.0  107030.0\n",
              "1970-01-01 12:00:00  107020.0  107410.0  106980.0  107240.0\n",
              "1970-01-01 13:00:00  107270.0  107510.0  107270.0  107430.0\n",
              "1970-01-01 14:00:00  107550.0  108110.0  107550.0  107930.0\n",
              "1970-01-01 15:00:00  107950.0  108270.0  107730.0  108180.0\n",
              "1970-01-01 16:00:00  108200.0  108740.0  108080.0  108450.0\n",
              "1970-01-01 17:00:00  108480.0  108540.0  106770.0  107300.0\n",
              "1970-01-01 18:00:00  107290.0  107860.0  106810.0  107020.0\n",
              "1970-01-01 19:00:00  107030.0  107520.0  107000.0  107270.0\n",
              "1970-01-01 20:00:00  107320.0  107410.0  107180.0  107200.0\n",
              "1970-01-01 21:00:00  107170.0  107660.0  107110.0  107510.0\n",
              "1970-01-01 22:00:00  107510.0  107580.0  107170.0  107260.0\n",
              "1970-01-01 23:00:00  107280.0  107280.0  107140.0  107280.0"
            ]
          },
          "metadata": {
            "tags": []
          },
          "execution_count": 4
        }
      ]
    },
    {
      "cell_type": "code",
      "metadata": {
        "colab": {
          "base_uri": "https://localhost:8080/",
          "height": 484
        },
        "id": "q2eDljtrg2rx",
        "outputId": "fb9d5be7-e45d-49cf-e14c-1cb09c3bdd73"
      },
      "source": [
        "mpf.plot(ohlc, type='candlestick', no_xgaps = True)"
      ],
      "execution_count": 5,
      "outputs": [
        {
          "output_type": "display_data",
          "data": {
            "image/png": "[encoded data removed]",
            "text/plain": [
              "<Figure size 800x575 with 2 Axes>"
            ]
          },
          "metadata": {
            "tags": []
          }
        }
      ]
    }
  ]
}